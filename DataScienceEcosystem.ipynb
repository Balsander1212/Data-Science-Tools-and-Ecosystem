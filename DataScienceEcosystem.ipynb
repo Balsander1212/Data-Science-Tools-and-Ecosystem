{
 "cells": [
  {
   "cell_type": "markdown",
   "id": "6be4eea4-d1a9-4af6-9c46-1c51c94285b6",
   "metadata": {},
   "source": [
    "# Data Science Tools and Ecosystem"
   ]
  },
  {
   "cell_type": "markdown",
   "id": "3ca5a4f6-bd5e-4766-9eb0-2fbc50888cb6",
   "metadata": {},
   "source": [
    "In this notebook, Data Science Tools and Ecosystem are summarized."
   ]
  },
  {
   "cell_type": "markdown",
   "id": "9b743736-cd1a-485a-bc23-94adc754167c",
   "metadata": {},
   "source": [
    "___Objectives:___\n",
    "* List popular languages for Data Science\n",
    "* List commonly used libraries for Data Science\n",
    "* List of three open source developent environments\n",
    "* Code cell to multiply and add numbers\n",
    "* Code cell to convert minutes into hours"
   ]
  },
  {
   "cell_type": "markdown",
   "id": "21b8af64-b475-45ba-abc9-1cdc52994457",
   "metadata": {},
   "source": [
    "Some of the popular languages that Data Scientists use are:\n",
    "1. Python\n",
    "2. R\n",
    "3. SQL\n",
    "4. Julia"
   ]
  },
  {
   "cell_type": "markdown",
   "id": "18137fc2-fcd1-4fa3-9693-ed855e659c3e",
   "metadata": {},
   "source": [
    "Some of the commonly used libraries used by Data Scientists include:\n",
    "1. Matplotlib\n",
    "2. Numpy\n",
    "3. Pandas\n",
    "4. Seaborn"
   ]
  },
  {
   "cell_type": "markdown",
   "id": "be63711e-04d4-430a-88c5-41cca5ef540f",
   "metadata": {},
   "source": [
    "|Data Science Tools|\n",
    "|------------------|\n",
    "|Jupiter Notebook|\n",
    "|JupiterLab|\n",
    "|VSCode|"
   ]
  },
  {
   "cell_type": "markdown",
   "id": "ac24d57c-d7fc-4545-aa92-93b21ecac272",
   "metadata": {},
   "source": [
    "### Below are a few examples of evaluating arithmetic expressions in Python ###"
   ]
  },
  {
   "cell_type": "code",
   "execution_count": 5,
   "id": "ae122d8a-ce99-4df5-a439-ee0f6235d36e",
   "metadata": {},
   "outputs": [
    {
     "data": {
      "text/plain": [
       "17"
      ]
     },
     "execution_count": 5,
     "metadata": {},
     "output_type": "execute_result"
    }
   ],
   "source": [
    "#This a simple arithmetic expression to mutiply then add integers\n",
    "(3*4)+5"
   ]
  },
  {
   "cell_type": "code",
   "execution_count": 6,
   "id": "ed7b18ce-05e4-473b-af41-04ba29a4ac7a",
   "metadata": {},
   "outputs": [
    {
     "name": "stdout",
     "output_type": "stream",
     "text": [
      "3.3333333333333335\n"
     ]
    }
   ],
   "source": [
    "#This will convert 200 minutes to hours by diving by 60\n",
    "m = 200\n",
    "d = 60\n",
    "h = m/d\n",
    "print(h)"
   ]
  },
  {
   "cell_type": "markdown",
   "id": "90c4f05d-3b6a-4eaa-9634-ec09ee61edea",
   "metadata": {},
   "source": [
    "## Author ##\n",
    "Sander Bal"
   ]
  },
  {
   "cell_type": "code",
   "execution_count": null,
   "id": "8f4fc1f4-45c1-4860-8a1f-3423f984d9e2",
   "metadata": {},
   "outputs": [],
   "source": []
  }
 ],
 "metadata": {
  "kernelspec": {
   "display_name": "Python 3 (ipykernel)",
   "language": "python",
   "name": "python3"
  },
  "language_info": {
   "codemirror_mode": {
    "name": "ipython",
    "version": 3
   },
   "file_extension": ".py",
   "mimetype": "text/x-python",
   "name": "python",
   "nbconvert_exporter": "python",
   "pygments_lexer": "ipython3",
   "version": "3.11.9"
  }
 },
 "nbformat": 4,
 "nbformat_minor": 5
}
